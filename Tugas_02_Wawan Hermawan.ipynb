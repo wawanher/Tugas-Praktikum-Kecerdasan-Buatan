{
  "nbformat": 4,
  "nbformat_minor": 0,
  "metadata": {
    "colab": {
      "provenance": []
    },
    "kernelspec": {
      "name": "python3",
      "display_name": "Python 3"
    },
    "language_info": {
      "name": "python"
    }
  },
  "cells": [
    {
      "cell_type": "markdown",
      "source": [
        "**Wawan Hermawan <br>2106144**"
      ],
      "metadata": {
        "id": "7agPmw0vTuiy"
      }
    },
    {
      "cell_type": "markdown",
      "source": [
        "**Best First Search**"
      ],
      "metadata": {
        "id": "YJFHGzlwT6yi"
      }
    },
    {
      "cell_type": "code",
      "source": [
        "from queue import PriorityQueue\n",
        "v = 14\n",
        "graph = [[] for i in range(v)]\n",
        "\n",
        "#Function For Implementing best  First Search\n",
        "#Gives output  path having lowest cost\n",
        "\n",
        "def best_first_search(actual_src, target, n):\n",
        "    visited = [False]*n\n",
        "\n",
        "    pq = PriorityQueue()\n",
        "    pq.put((0, actual_src))\n",
        "    visited[actual_src] = True\n",
        "\n",
        "    while pq.empty() == False:\n",
        "      u = pq.get()[1]\n",
        "      #Display the path having lowest cost\n",
        "      print(u, end=\" \")\n",
        "      if u == target:\n",
        "        break\n",
        "\n",
        "      for v, c in graph[u]:\n",
        "        if visited[v] == False:\n",
        "          visited[v] == True\n",
        "          pq.put((c, v))\n",
        "  \n",
        "    print()\n",
        "\n",
        "    #Display PriorityQueue\n",
        "    printpq(pq)\n",
        "\n",
        "def printpq(pq):\n",
        "    while not pq.empty():\n",
        "      item = pq.get()\n",
        "      print(item)\n",
        "\n",
        "#Function for adding edges to graph\n",
        "def addedge(x, y, cost):\n",
        "    graph[x].append((y, cost))\n",
        "    graph[y].append((x, cost))\n",
        "\n",
        "addedge(0, 1, 3)\n",
        "addedge(0, 2, 6)\n",
        "addedge(0, 3, 5)\n",
        "addedge(1, 4, 9)\n",
        "addedge(1, 5, 8)\n",
        "addedge(2, 6, 12)\n",
        "addedge(3, 7, 14)\n",
        "addedge(3, 8, 7)\n",
        "addedge(8, 9, 5)\n",
        "addedge(8, 10, 6)\n",
        "addedge(9, 11, 1)\n",
        "addedge(9, 13, 2)\n",
        "source = 0\n",
        "target = 9\n",
        "best_first_search(source, target, v)"
      ],
      "metadata": {
        "colab": {
          "base_uri": "https://localhost:8080/"
        },
        "id": "IT3_bGqLaPTS",
        "outputId": "45e01fe8-1240-42fe-e6c2-e0d782f81bfc"
      },
      "execution_count": null,
      "outputs": [
        {
          "output_type": "stream",
          "name": "stdout",
          "text": [
            "0 1 3 2 8 9 \n",
            "(6, 10)\n",
            "(7, 3)\n",
            "(8, 5)\n",
            "(9, 4)\n",
            "(12, 6)\n",
            "(14, 7)\n"
          ]
        }
      ]
    },
    {
      "cell_type": "markdown",
      "source": [
        "**Greedy Best Firsh Searh**"
      ],
      "metadata": {
        "id": "iFfxtKq1cQsR"
      }
    },
    {
      "cell_type": "code",
      "source": [
        "import queue\n",
        "import matplotlib.pyplot as plt\n",
        "\n",
        "#getting heuristics from file\n",
        "def getHeuristics():\n",
        "    heuristics = {}\n",
        "    f = open(\"heuristics.txt\")\n",
        "    for i in f.readlines():\n",
        "        node_heuristic_val = i.split()\n",
        "        heuristics[node_heuristic_val[0]] = int(node_heuristic_val[1])\n",
        "      \n",
        "    return heuristics\n",
        "\n",
        "#getting cities location from file\n",
        "def getCity():\n",
        "    city= {}\n",
        "    citiesCode = {}\n",
        "    f = open(\"cities.txt\")\n",
        "    j = 1\n",
        "    for i in f.readlines():\n",
        "        node_city_val = i.split()\n",
        "        city[node_city_val[0]] = [int(node_city_val[1]), int(node_city_val[2])]\n",
        "\n",
        "        citiesCode[j] = node_city_val[0]\n",
        "        j += 1\n",
        "\n",
        "    return city, citiesCode\n",
        "\n",
        "#Creating cities graph from file\n",
        "def createGraph():\n",
        "    graph = {}\n",
        "    file = open(\"citiesGraph.txt\")\n",
        "    for i in file.readlines():\n",
        "        node_val = i.split()\n",
        "\n",
        "        if node_val[0] in graph and node_val[1] in graph:\n",
        "            c = graph.get(node_val[0])\n",
        "            c.append([node_val[1], node_val[2]])\n",
        "            graph.update({node_val[0]: c})\n",
        "\n",
        "            c = graph.get(node_val[1])\n",
        "            c.append([node_val[0], node_val[2]])\n",
        "            graph.update({node_val[1]: c})\n",
        "        \n",
        "        elif node_val[0] in graph:\n",
        "            c = graph.get(node_val[0])\n",
        "            c.append([node_val[1], node_val[2]])\n",
        "            graph.update({node_val[0]: c})\n",
        "\n",
        "            graph[node_val[1]] = [[node_val[0], node_val[2]]]\n",
        "          \n",
        "        elif node_val[1] in graph:\n",
        "            c = graph.get(node_val[1])\n",
        "            c.append([node_val[0], node_val[2]])\n",
        "            graph.update({node_val[1]: c})\n",
        "\n",
        "            graph[node_val[0]] = [[node_val[1], node_val[2]]]\n",
        "\n",
        "        else:\n",
        "            graph[node_val[0]] = [[node_val[1], node_val[2]]]\n",
        "            graph[node_val[1]] = [[node_val[0], node_val[2]]]\n",
        "    \n",
        "    return graph\n",
        "\n",
        "#Greedy Best First Search Algorithm\n",
        "def GBFS(startNode, heuristics, graph, goalNode=\"Bucharest\"):\n",
        "    PriorityQueue =  queue.PriorityQueue()\n",
        "    PriorityQueue.put((heuristics[startNode], startNode))\n",
        "\n",
        "    path= []\n",
        "\n",
        "    while PriorityQueue.empty() == False:\n",
        "        current = PriorityQueue.get()[1]\n",
        "        path.append(current)\n",
        "\n",
        "        if current == goalNode:\n",
        "            break\n",
        "        \n",
        "        PriorityQueue = queue.PriorityQueue()\n",
        "\n",
        "        for i in graph[current]:\n",
        "            if i[0] not in path:\n",
        "                PriorityQueue.put((heuristics[i[0]], i[0]))\n",
        "    return path\n",
        "\n",
        "#drawing map of answer\n",
        "def drawmap(city, gbfs, graph):\n",
        "    for i, j in city.items():\n",
        "        plt.plot(j[0], j[1],\"ro\")\n",
        "        plt.annotate(i, (j[0] + 5, j[1]))\n",
        "\n",
        "        for k in graph[i]:\n",
        "            n = city[k[0]]\n",
        "            plt.plot([j[0], n[0]], [j[1], n[1]], \"gray\")\n",
        "    \n",
        "    for i in range(len(gbfs)):\n",
        "        try:\n",
        "            first = city[gbfs[i]]\n",
        "            secend = city[gbfs[i + 1]]\n",
        "\n",
        "            plt.plot([first[0], secend[0]], [first[1], secend[1]], \"green\")\n",
        "        except:\n",
        "            continue\n",
        "\n",
        "    plt.errorbar(1, 1, label =\"GBFS\", color=\"green\")\n",
        "    plt.legend(loc=\"lower left\")\n",
        "\n",
        "    plt.show()\n",
        "\n",
        "#running the program\n",
        "def main():\n",
        "    heuristic = getHeuristics()\n",
        "    graph = createGraph()\n",
        "    city, citiesCode = getCity()\n",
        "\n",
        "    for i, j in citiesCode.items():\n",
        "        print(i, j)\n",
        "    \n",
        "    while True:\n",
        "        inputCode = int(input(\"Masukkan nomor KOTA ASAL (0 untuk keluar):\"))\n",
        "\n",
        "        if inputCode == 0:\n",
        "            break\n",
        "\n",
        "        cityName = citiesCode[inputCode]\n",
        "\n",
        "        gbfs = GBFS(cityName, heuristic, graph)\n",
        "        print(\"GBFS =>\", gbfs)\n",
        "\n",
        "        drawmap(city, gbfs, graph)\n",
        "\n",
        "main()"
      ],
      "metadata": {
        "colab": {
          "base_uri": "https://localhost:8080/",
          "height": 664
        },
        "id": "CR8e6zyFcP8C",
        "outputId": "df6744cd-5e02-4631-9820-e4899d5ca336"
      },
      "execution_count": 29,
      "outputs": [
        {
          "output_type": "stream",
          "name": "stdout",
          "text": [
            "1 Arad\n",
            "2 Bucharest\n",
            "3 Craiova\n",
            "4 Dobreta\n",
            "5 Eforie\n",
            "6 Fagaras\n",
            "7 Giurgiu\n",
            "8 Hirsova\n",
            "9 Iasi\n",
            "10 Lugoj\n",
            "11 Mehadia\n",
            "12 Neamt\n",
            "13 Oradea\n",
            "14 Pitesti\n",
            "15 Rimnicu_Vilcea\n",
            "16 Sibiu\n",
            "17 Timisoara\n",
            "18 Urziceni\n",
            "19 Vaslui\n",
            "20 Zerind\n",
            "Masukkan nomor KOTA ASAL (0 untuk keluar):1\n",
            "GBFS => ['Arad', 'Sibiu', 'Fagaras', 'Bucharest']\n"
          ]
        },
        {
          "output_type": "display_data",
          "data": {
            "text/plain": [
              "<Figure size 432x288 with 1 Axes>"
            ],
            "image/png": "[encoded data removed]"
          },
          "metadata": {
            "needs_background": "light"
          }
        },
        {
          "name": "stdout",
          "output_type": "stream",
          "text": [
            "Masukkan nomor KOTA ASAL (0 untuk keluar):0\n"
          ]
        }
      ]
    },
    {
      "cell_type": "markdown",
      "source": [
        "**A* Search**"
      ],
      "metadata": {
        "id": "cMFouC9Dwy9p"
      }
    },
    {
      "cell_type": "code",
      "source": [
        "#Astar Algorithm\n",
        "def Astar(starNode, heuristics, graph, goalNode=\"Bucharest\"):\n",
        "    PriorityQueue = queue.PriorityQueue()\n",
        "    distance = 0\n",
        "    path = []\n",
        "\n",
        "    PriorityQueue.put((heuristics[starNode] + distance, [starNode, 0]))\n",
        "\n",
        "    while PriorityQueue.empty() == False:\n",
        "        current = PriorityQueue.get()[1]\n",
        "        path.append(current[0])\n",
        "        distance += int(current[1])\n",
        "\n",
        "        if current[0] == goalNode:\n",
        "            break\n",
        "        \n",
        "        PriorityQueue = queue.PriorityQueue()\n",
        "\n",
        "        for i in graph[current[0]]:\n",
        "            if i[0] not in path:\n",
        "                PriorityQueue.put((heuristics[i[0]] + int(i[1]) + distance, i))\n",
        "    return path\n",
        "\n",
        "#drawing map of answer \n",
        "def drawMap(city, gbfs, astar, graph):\n",
        "    for i, j in city.items():\n",
        "        plt.plot(j[0], j[1], \"ro\")\n",
        "        plt.annotate(i, (j[0] + 5, j[1]))\n",
        "\n",
        "        for k in graph[i]:\n",
        "            n = city[k[0]]\n",
        "            plt.plot([j[0], n[0]], [j[1], n[1]], \"gray\")\n",
        "    \n",
        "    for i in range(len(gbfs)):\n",
        "        try:\n",
        "            first = city[gbfs[i]]\n",
        "            secend = city[gbfs [i + 1]]\n",
        "\n",
        "            plt.plot([first[0], secend[0]], [first[1], secend [1]], \"green\")\n",
        "        except:\n",
        "            continue\n",
        "\n",
        "    for i in range(len(astar)):\n",
        "        try:\n",
        "            first = city[astar[i]]\n",
        "            secend = city[astar [i + 1]]\n",
        "\n",
        "            plt.plot([first[0], secend[0]], [first[1], secend [1]], \"blue\")\n",
        "        except:\n",
        "            continue\n",
        "\n",
        "    plt.errorbar(1, 1, label=\"GBFS\", color = \"green\")\n",
        "    plt.errorbar(1, 1, label=\"ASRAR\", color = \"blue\")\n",
        "    plt.legend(loc=\"lower left\")\n",
        "\n",
        "    plt.show()\n",
        "\n",
        "#running the program\n",
        "def main():\n",
        "    heuristic = getHeuristics()\n",
        "    graph = createGraph()\n",
        "    city, citiesCode = getCity()\n",
        "\n",
        "    for i, j in citiesCode.items():\n",
        "        print(i, j)\n",
        "\n",
        "    while True:\n",
        "        inputCode = int(input(\"Masukan Nomor KOTA ASAL (0 untuk keluar): \"))\n",
        "\n",
        "        if inputCode == 0:\n",
        "            break\n",
        "\n",
        "        cityName = citiesCode[inputCode]\n",
        "\n",
        "        gbfs = GBFS(cityName, heuristic, graph)\n",
        "        astar = Astar(cityName, heuristic, graph)\n",
        "        print(\"GBFS => \", gbfs)\n",
        "        print(\"ASTAR => \",astar)\n",
        "\n",
        "        drawMap(city, gbfs, astar, graph)\n",
        "\n",
        "main()"
      ],
      "metadata": {
        "colab": {
          "base_uri": "https://localhost:8080/",
          "height": 682
        },
        "id": "GneM0F64wt_x",
        "outputId": "7e7adbe1-27e3-41bd-ba35-0acb24176a62"
      },
      "execution_count": 28,
      "outputs": [
        {
          "output_type": "stream",
          "name": "stdout",
          "text": [
            "1 Arad\n",
            "2 Bucharest\n",
            "3 Craiova\n",
            "4 Dobreta\n",
            "5 Eforie\n",
            "6 Fagaras\n",
            "7 Giurgiu\n",
            "8 Hirsova\n",
            "9 Iasi\n",
            "10 Lugoj\n",
            "11 Mehadia\n",
            "12 Neamt\n",
            "13 Oradea\n",
            "14 Pitesti\n",
            "15 Rimnicu_Vilcea\n",
            "16 Sibiu\n",
            "17 Timisoara\n",
            "18 Urziceni\n",
            "19 Vaslui\n",
            "20 Zerind\n",
            "Masukan Nomor KOTA ASAL (0 untuk keluar): 1\n",
            "GBFS =>  ['Arad', 'Sibiu', 'Fagaras', 'Bucharest']\n",
            "ASTAR =>  ['Arad', 'Sibiu', 'Rimnicu_Vilcea', 'Pitesti', 'Bucharest']\n"
          ]
        },
        {
          "output_type": "display_data",
          "data": {
            "text/plain": [
              "<Figure size 432x288 with 1 Axes>"
            ],
            "image/png": "[encoded data removed]"
          },
          "metadata": {
            "needs_background": "light"
          }
        },
        {
          "name": "stdout",
          "output_type": "stream",
          "text": [
            "Masukan Nomor KOTA ASAL (0 untuk keluar): 0\n"
          ]
        }
      ]
    }
  ]
}